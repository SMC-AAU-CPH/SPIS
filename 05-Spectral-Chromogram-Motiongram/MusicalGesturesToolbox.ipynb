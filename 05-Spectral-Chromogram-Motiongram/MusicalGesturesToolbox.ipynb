{
  "cells": [
    {
      "cell_type": "markdown",
      "metadata": {
        "id": "rZUHvpM6r3NP"
      },
      "source": [
        "# Musical Gestures Toolbox for Python - Tutorial"
      ]
    },
    {
      "cell_type": "markdown",
      "metadata": {
        "id": "NXc_vEmar3NS"
      },
      "source": [
        "This tutorial serves two purposes. It can be run on its own either locally or on Google Colab. It is also the source document for a slide deck that is used in presentation mode."
      ]
    },
    {
      "cell_type": "markdown",
      "metadata": {
        "id": "3DphH7dyr3NS"
      },
      "source": [
        "## Introduction"
      ]
    },
    {
      "cell_type": "markdown",
      "metadata": {
        "id": "Et7u8HLIr3NT"
      },
      "source": [
        "The Musical Gestures Toolbox for Python is a collection of tools for video visualization and video analysis. It also has some modules for audio analysis and will be developed to include integration with motion capture and sensor data.\n",
        "\n",
        "This tutorial goes through some of the core parts of the toolbox. Please refer to the [wiki documentation](https://github.com/fourMs/MGT-python/wiki) for details."
      ]
    },
    {
      "cell_type": "markdown",
      "metadata": {
        "id": "jhtHnE-pr3NT"
      },
      "source": [
        "### About"
      ]
    },
    {
      "cell_type": "markdown",
      "metadata": {
        "id": "AuzyG6UKr3NU"
      },
      "source": [
        "The toolbox builds on the [Musical Gestures Toolbox for Matlab](https://github.com/fourMs/MGT-matlab/), which again builds on the [Musical Gestures Toolbox for Max](https://www.uio.no/ritmo/english/research/labs/fourms/software/musicalgesturestoolbox/mgt-max/).\n",
        "\n",
        "If you are not into text-based coding, you can have a look at our standalone software [VideoAnalysis](https://www.uio.no/ritmo/english/research/labs/fourms/software/VideoAnalysis/index.html) instead."
      ]
    },
    {
      "cell_type": "markdown",
      "metadata": {
        "id": "YQPzsaKVr3NU"
      },
      "source": [
        "### Development"
      ]
    },
    {
      "cell_type": "markdown",
      "metadata": {
        "id": "bMoSEYBNr3NU"
      },
      "source": [
        "The software is developed by researchers at the [fourMs lab](https://github.com/fourMs) at [RITMO Centre for Interdisciplinary Studies in Rhythm, Time and Motion](https://www.uio.no/ritmo/english/) at the University of Oslo.\n",
        "\n",
        "Feel free to contribute to the code at [GitHub](https://github.com/fourMs/MGT-python)!\n",
        "It is also great if you can log bugs and feature requests in the [Issues](https://github.com/fourMs/MGT-python/issues) section."
      ]
    },
    {
      "cell_type": "markdown",
      "metadata": {
        "id": "s1Jaej_Zr3NV"
      },
      "source": [
        "## Setting up"
      ]
    },
    {
      "cell_type": "markdown",
      "metadata": {
        "id": "5dNVoWbrRP6u"
      },
      "source": [
        "### FFmpeg\n",
        "If you have gotten this far, you should have Python and Jupyter Notebook installed properly. The next step is to install `FFmpeg`. You can find some information on installing it on the [wiki documentation](https://github.com/fourMs/MGT-python/wiki/0-%E2%80%90-Installation). Before moving on, check that `FFmpeg` works properly:"
      ]
    },
    {
      "cell_type": "code",
      "execution_count": null,
      "metadata": {
        "colab": {
          "base_uri": "https://localhost:8080/"
        },
        "id": "8dP5MUy-RP6u",
        "outputId": "8c156757-0ad5-485e-b555-534cc4046dbe"
      },
      "outputs": [],
      "source": [
        "!ffmpeg"
      ]
    },
    {
      "cell_type": "markdown",
      "metadata": {
        "id": "zgyPD7AKRP6v"
      },
      "source": [
        "### For Colab users\n",
        "If you are on Colab, you should install a newer version of `FFmpeg` than the one provided. First, we add a repository that has the more recent version, and then we download and install it."
      ]
    },
    {
      "cell_type": "code",
      "execution_count": null,
      "metadata": {
        "colab": {
          "base_uri": "https://localhost:8080/"
        },
        "id": "E4uC2r5JRP6v",
        "outputId": "173fb22e-2bcf-4868-99d7-3c13eee55c14"
      },
      "outputs": [],
      "source": [
        "#!add-apt-repository -y ppa:jonathonf/ffmpeg-4\n",
        "#!apt install --upgrade ffmpeg"
      ]
    },
    {
      "cell_type": "markdown",
      "metadata": {
        "id": "BA_95n8Ar3NV"
      },
      "source": [
        "### Installing MGT\n",
        "Then, you can install the Musical Gestures Toolbox using this terminal command:  "
      ]
    },
    {
      "cell_type": "code",
      "execution_count": null,
      "metadata": {
        "colab": {
          "base_uri": "https://localhost:8080/"
        },
        "id": "366oYK-Pr3NV",
        "outputId": "3183ff05-351e-4c85-8b45-c7c5f79dc7b6"
      },
      "outputs": [],
      "source": [
        "#!pip install musicalgestures\n",
        "\n",
        "# You can also install the last updated version of the repository\n",
        "# !git clone --branch master https://github.com/fourMs/MGT-python.git\n",
        "# # install the package in the system\n",
        "# !pip install --use-feature=fast-deps ./MGT-python"
      ]
    },
    {
      "cell_type": "markdown",
      "metadata": {
        "id": "nMP_xkTWr3NX"
      },
      "source": [
        "*NB: If you are prompted to restart the runtime, do so by clicking the button in the previous cell. This is necessary if the required version of IPython is newer than the one that is preinstalled on Colab.*"
      ]
    },
    {
      "cell_type": "markdown",
      "metadata": {
        "id": "Su6hggecr3NX"
      },
      "source": [
        "## Working with MGT"
      ]
    },
    {
      "cell_type": "markdown",
      "metadata": {
        "id": "QqLwWWBcr3NY"
      },
      "source": [
        "If everything has gone well, you should now be able to import the toolbox using the command `musicalgestures` and make a \"shortcut\" with the command `mg`:"
      ]
    },
    {
      "cell_type": "code",
      "execution_count": null,
      "metadata": {
        "id": "wca99YIhr3NY"
      },
      "outputs": [],
      "source": [
        "import musicalgestures as mg"
      ]
    },
    {
      "cell_type": "markdown",
      "metadata": {
        "id": "v_F8QmwQr3NY"
      },
      "source": [
        "To make your first steps a bit easier, we packaged a couple of example videos into `musicalgestures`. We load them into two variables:"
      ]
    },
    {
      "cell_type": "code",
      "execution_count": null,
      "metadata": {
        "id": "sFMSf5S_r3NY"
      },
      "outputs": [],
      "source": [
        "dance = mg.examples.dance\n",
        "pianist = mg.examples.pianist"
      ]
    },
    {
      "cell_type": "markdown",
      "metadata": {
        "id": "u6X5U9n4r3NY"
      },
      "source": [
        "### Loading a video file"
      ]
    },
    {
      "cell_type": "markdown",
      "metadata": {
        "id": "9cBwuu2Mr3NZ"
      },
      "source": [
        "Now we can load one of the video files into a video object:"
      ]
    },
    {
      "cell_type": "code",
      "execution_count": null,
      "metadata": {
        "id": "o3YqfBqgr3NZ"
      },
      "outputs": [],
      "source": [
        "video = mg.MgVideo(dance)"
      ]
    },
    {
      "cell_type": "markdown",
      "metadata": {
        "id": "_-U-wAoRr3NZ"
      },
      "source": [
        "Now the `video` object contains a pointer to the video file and it is also \"actionable\"."
      ]
    },
    {
      "cell_type": "markdown",
      "metadata": {
        "id": "brKr6etHRP6v"
      },
      "source": [
        "### Inspecting the video content\n",
        "We can take a look at the the content of the video file with the `info` function:"
      ]
    },
    {
      "cell_type": "code",
      "execution_count": null,
      "metadata": {
        "colab": {
          "base_uri": "https://localhost:8080/",
          "height": 245
        },
        "id": "vQulAZgTRP6v",
        "outputId": "e7b33cef-f6cd-4e88-80b4-051df3f2251a"
      },
      "outputs": [],
      "source": [
        "video.info()"
      ]
    },
    {
      "cell_type": "markdown",
      "metadata": {
        "id": "DQjTkaJkRP6v"
      },
      "source": [
        "Here we get information about the codecs used, pixel size, and so on."
      ]
    },
    {
      "cell_type": "markdown",
      "metadata": {
        "id": "YuDcwWNnr3NZ"
      },
      "source": [
        "### Watching a video file"
      ]
    },
    {
      "cell_type": "markdown",
      "metadata": {
        "id": "wHgbh9xhr3NZ"
      },
      "source": [
        "You can watch your video with calling the `show()` method. There are two modes to choose from:\n",
        "\n",
        "1. The default `'windowed'` mode will open a video player as a separate window.\n",
        "2. The `'notebook'` mode the video is embedded into the notebook."
      ]
    },
    {
      "cell_type": "code",
      "execution_count": null,
      "metadata": {
        "colab": {
          "base_uri": "https://localhost:8080/",
          "height": 590
        },
        "id": "zP-2H8Wmr3NZ",
        "outputId": "f44720d5-f2af-4d4f-cea2-21115f6773a5"
      },
      "outputs": [],
      "source": [
        "video.show() # this opens the video in a separate window"
      ]
    },
    {
      "cell_type": "code",
      "execution_count": null,
      "metadata": {
        "colab": {
          "base_uri": "https://localhost:8080/",
          "height": 535
        },
        "id": "BX7BywRaRP6w",
        "outputId": "965ab9cc-d688-4d50-9a9b-30ff2f345b0d"
      },
      "outputs": [],
      "source": [
        "video.show(mode=\"notebook\") # this opens the video in the notebook"
      ]
    },
    {
      "cell_type": "markdown",
      "metadata": {
        "id": "BKJILfiir3Na"
      },
      "source": [
        "Since only mp4, webm and ogg file formats are compatible with browsers, `show` will automatically convert your video to mp4 if necessary."
      ]
    },
    {
      "cell_type": "markdown",
      "metadata": {
        "id": "AR9NDIJjr3Na"
      },
      "source": [
        "## Preprocessing modules"
      ]
    },
    {
      "cell_type": "markdown",
      "metadata": {
        "id": "1KDJoQvtr3Na"
      },
      "source": [
        "### Trimming"
      ]
    },
    {
      "cell_type": "markdown",
      "metadata": {
        "id": "QJlCpyU5r3Na"
      },
      "source": [
        "It is possible to *trim* the video, that is, select its start and end time. This is specified in the unit of seconds.\n",
        "\n",
        "This function will create the file *dance_trim.avi* in the same directory as the video file."
      ]
    },
    {
      "cell_type": "code",
      "execution_count": null,
      "metadata": {
        "colab": {
          "base_uri": "https://localhost:8080/",
          "height": 608
        },
        "id": "o-Ul_Cn2r3Nf",
        "outputId": "e9f6272a-102c-4297-97bc-aea581e52736"
      },
      "outputs": [],
      "source": [
        "video = mg.MgVideo(dance, starttime=4, endtime=18)\n",
        "video.show(mode='notebook')"
      ]
    },
    {
      "cell_type": "markdown",
      "metadata": {
        "id": "wqUV8N0Br3Ng"
      },
      "source": [
        "### Skipping"
      ]
    },
    {
      "cell_type": "markdown",
      "metadata": {
        "id": "IbXj4T0or3Nh"
      },
      "source": [
        "Skipping frames in the video can reduce the analysis time. You can skip frames between every analysed frame by using the `skip` function:"
      ]
    },
    {
      "cell_type": "code",
      "execution_count": null,
      "metadata": {
        "colab": {
          "base_uri": "https://localhost:8080/",
          "height": 608
        },
        "id": "e5A8aEPzr3Nh",
        "outputId": "3d9e3985-8852-4aa6-b38c-8ff0ca6cb567"
      },
      "outputs": [],
      "source": [
        "video = mg.MgVideo(dance, skip=5)\n",
        "video.show(mode='notebook')"
      ]
    },
    {
      "cell_type": "markdown",
      "metadata": {
        "id": "VaA7n2a2r3Nh"
      },
      "source": [
        "This will create the file *dance_skip.avi* in the same directory. Notice how the added suffixes at the end of the file's name can inform you about the processes the material went through. If a similar file already exists, it will add an incremental number to avoid overwriting existing files."
      ]
    },
    {
      "cell_type": "markdown",
      "metadata": {
        "id": "4hgrAGVDr3Nh"
      },
      "source": [
        "### Rotating"
      ]
    },
    {
      "cell_type": "markdown",
      "metadata": {
        "id": "s2ULxL65r3Ni"
      },
      "source": [
        "Some videos are recorded slightly tilted, or with the camera mounted sideways.\n",
        "\n",
        "We can rotate the video 90 degrees with the `rotate` parameter:"
      ]
    },
    {
      "cell_type": "code",
      "execution_count": null,
      "metadata": {
        "colab": {
          "base_uri": "https://localhost:8080/",
          "height": 642
        },
        "id": "vSLeCCwqr3Ni",
        "outputId": "cf61bb8e-cb78-4954-e7cd-fedaeae71771"
      },
      "outputs": [],
      "source": [
        "video = mg.MgVideo(dance, starttime=4, endtime=18, skip=3, rotate=90)\n",
        "video.show(mode='notebook')"
      ]
    },
    {
      "cell_type": "markdown",
      "metadata": {
        "id": "rz_54fdDr3Ni"
      },
      "source": [
        "Or with some other angle:"
      ]
    },
    {
      "cell_type": "code",
      "execution_count": null,
      "metadata": {
        "colab": {
          "base_uri": "https://localhost:8080/",
          "height": 642
        },
        "id": "vG3hc6FOr3Ni",
        "outputId": "ae089802-f52e-4829-e10d-36dd474d2448"
      },
      "outputs": [],
      "source": [
        "video = mg.MgVideo(dance, starttime=4, endtime=18, skip=3, rotate=3.3)\n",
        "video.show(mode='notebook')"
      ]
    },
    {
      "cell_type": "markdown",
      "metadata": {
        "id": "ErVXjbBlr3Nj"
      },
      "source": [
        "Again, the resulting filename *dancer_trim_skip_rot.avi* will inform us about the chain of processes *dancer.avi* went through."
      ]
    },
    {
      "cell_type": "markdown",
      "metadata": {
        "id": "Pc4dtUeKr3Nj"
      },
      "source": [
        "### Contrast and brightness"
      ]
    },
    {
      "cell_type": "markdown",
      "metadata": {
        "id": "pZraxbATr3Nj"
      },
      "source": [
        "During preprocessing you can also add (or remove) some contrast and brightness of the video:"
      ]
    },
    {
      "cell_type": "code",
      "execution_count": null,
      "metadata": {
        "colab": {
          "base_uri": "https://localhost:8080/",
          "height": 625
        },
        "id": "B3Aqg391r3Nk",
        "outputId": "8eb74580-b96c-4147-9fec-8cb78d2d29ab"
      },
      "outputs": [],
      "source": [
        "video = mg.MgVideo(dance, starttime=4, endtime=18, contrast=100, brightness=20)\n",
        "video.show(mode='notebook')"
      ]
    },
    {
      "cell_type": "markdown",
      "metadata": {
        "id": "0L74tFnpr3Nk"
      },
      "source": [
        "The resulting file is now called *dancer_trim_skip_rot_cb.avi*."
      ]
    },
    {
      "cell_type": "markdown",
      "metadata": {
        "id": "iQEQyfYvr3Nk"
      },
      "source": [
        "### Cropping"
      ]
    },
    {
      "cell_type": "markdown",
      "metadata": {
        "id": "W0gK0iI3r3Nl"
      },
      "source": [
        "You may not be interested in analysing the whole image. Then it is helpful to crop the video. This can be done manually by clicking and selecting the area to crop followed by pressing the key `c` to crop or `r` to redo the cropping:"
      ]
    },
    {
      "cell_type": "code",
      "execution_count": null,
      "metadata": {
        "colab": {
          "base_uri": "https://localhost:8080/"
        },
        "id": "vfz5yJxJr3Nl",
        "outputId": "d519e905-6fce-4b61-c6ed-b0e04338eb75"
      },
      "outputs": [],
      "source": [
        "video = mg.MgVideo(dance, starttime=5, endtime=15, crop='manual')\n",
        "video.show(mode='notebook')"
      ]
    },
    {
      "cell_type": "markdown",
      "metadata": {
        "id": "eWfoNB0Wr3Nl"
      },
      "source": [
        "There is also an experimental \"auto-crop\" function that looks at where there motion in the video at uses that for cropping:"
      ]
    },
    {
      "cell_type": "code",
      "execution_count": null,
      "metadata": {
        "id": "IlUa7oxQr3Nl"
      },
      "outputs": [],
      "source": [
        "video = mg.MgVideo(dance, starttime=5, endtime=15, crop='auto')\n",
        "video.show(mode='notebook')"
      ]
    },
    {
      "cell_type": "markdown",
      "metadata": {
        "id": "xjjmYf7Gr3Nm"
      },
      "source": [
        "This may or may not work well, dependent on the content of the video."
      ]
    },
    {
      "cell_type": "markdown",
      "metadata": {
        "id": "7iAd7Z-8r3Nm"
      },
      "source": [
        "### Grayscale mode"
      ]
    },
    {
      "cell_type": "markdown",
      "metadata": {
        "id": "ztvzKQPpr3Nm"
      },
      "source": [
        "If you do not need to work with colors, you may speed up the further processing considerably (3x) by converting to grayscale mode using the `color=False` command:"
      ]
    },
    {
      "cell_type": "code",
      "execution_count": null,
      "metadata": {
        "id": "nE3yiuLYr3Nm"
      },
      "outputs": [],
      "source": [
        "video = mg.MgVideo(dance, starttime=5, endtime=15, skip=3, color=False)\n",
        "video.show(mode='notebook')"
      ]
    },
    {
      "cell_type": "markdown",
      "metadata": {
        "id": "Gfzi8yiur3Nm"
      },
      "source": [
        "A color video is composed of 4 planes (Alpha, Red, Green, Blue) while a grayscale only has one. This is why the further analysis will be reduced to 1/4 in computational needs."
      ]
    },
    {
      "cell_type": "markdown",
      "metadata": {
        "id": "0BrE6uqOr3Nm"
      },
      "source": [
        "![Illustration of video matrix](https://github.com/fourMs/MGT-python/blob/master/wiki_pics/digital-video.png?raw=1)"
      ]
    },
    {
      "cell_type": "markdown",
      "metadata": {
        "id": "PMaQ8mtir3Nn"
      },
      "source": [
        "### Summary of preprocessing modules"
      ]
    },
    {
      "cell_type": "markdown",
      "metadata": {
        "id": "QNs8qMJ7r3Nn"
      },
      "source": [
        "These are the six preprocessing steps we have used so far:\n",
        "\n",
        "- **trim**: Trim the beginning and end of the video\n",
        "- **skip**: Skip every *n* frames to reduce processing time\n",
        "- **rotate**: Rotate the video by an angle\n",
        "- **cb**: Adjust contrast and brightness\n",
        "- **crop**: Crop out a part of the video image\n",
        "- **grayscale**: Convert the video to grayscale to reduce processing time"
      ]
    },
    {
      "cell_type": "markdown",
      "metadata": {
        "id": "-qh3HtRnr3Nn"
      },
      "source": [
        "### It's a chain"
      ]
    },
    {
      "cell_type": "markdown",
      "metadata": {
        "id": "Xcz3Nod3r3Nn"
      },
      "source": [
        "Note that the preprocessing modules work as a *chain*:\n",
        "\n",
        "1. load the file\n",
        "2. trim its start to 5s and its end to 15s\n",
        "3. skip 2 frames (keeping the 1st, skipping 2nd and 3rd, keeping the 4th, skipping 5th and 6th, and so on...)\n",
        "\n",
        "The resulting file of this process is *dancer_trim_skip.avi*."
      ]
    },
    {
      "cell_type": "markdown",
      "metadata": {
        "id": "3Bc6IXEVr3Nn"
      },
      "source": [
        "### Keep everything"
      ]
    },
    {
      "cell_type": "markdown",
      "metadata": {
        "id": "d8PJCs67r3No"
      },
      "source": [
        "The toolbox has been designed to store new video files for each chain.\n",
        "\n",
        "You can optionally keep the video files for each part of the chain by setting `keep_all=True`:"
      ]
    },
    {
      "cell_type": "code",
      "execution_count": null,
      "metadata": {
        "id": "jfaTvoYYr3No"
      },
      "outputs": [],
      "source": [
        "video = mg.MgVideo(dance, starttime=5, endtime=15, skip=3, rotate=3, contrast=100, brightness=20, crop='auto', color=False, keep_all=True)"
      ]
    },
    {
      "cell_type": "markdown",
      "metadata": {
        "id": "HefdkoAxr3No"
      },
      "source": [
        "This will output six new video files:\n",
        "- *dance_trim.avi*\n",
        "- *dance_trim_skip.avi*\n",
        "- *dance_trim_skip_rot.avi*\n",
        "- *dance_trim_skip_rot_cb.avi*\n",
        "- *dance_trim_skip_rot_cb_crop.avi*\n",
        "- *dance_trim_skip_rot_cb_crop_gray.avi*"
      ]
    },
    {
      "cell_type": "markdown",
      "metadata": {
        "id": "DTpXzp9Ir3No"
      },
      "source": [
        "## Video visualization"
      ]
    },
    {
      "cell_type": "markdown",
      "metadata": {
        "id": "-laJuUbfr3No"
      },
      "source": [
        "In the following we will take a look at several video processing functions:\n",
        "\n",
        "- `grid()`: Creates a *grid-based* image with multiple frames\n",
        "- `videograms()`: Outputs the videograms in two directions\n",
        "- `history()`: Renders a *_history* video by layering the last n frames on the current frame for each frame in the video\n",
        "- `blend(component_mode='average')`: Renders an *_average* image of all frames in the video"
      ]
    },
    {
      "cell_type": "markdown",
      "metadata": {
        "id": "-9ROCaBoRP65"
      },
      "source": [
        "For the following functions, let us load a trimmed and color-adjusted part of the video file."
      ]
    },
    {
      "cell_type": "code",
      "execution_count": null,
      "metadata": {
        "id": "MlU4zOmBRP65"
      },
      "outputs": [],
      "source": [
        "video = mg.MgVideo(dance, starttime=4, endtime=18, contrast=100, brightness=20)"
      ]
    },
    {
      "cell_type": "markdown",
      "metadata": {
        "id": "Qp48vG0Tr3Np"
      },
      "source": [
        "### Grid image"
      ]
    },
    {
      "cell_type": "markdown",
      "metadata": {
        "id": "oUkUCq5Fr3Np"
      },
      "source": [
        "The `grid` function generates an image composed of a specified number of frames sampled from the video. It gives an overview of the content of the file."
      ]
    },
    {
      "cell_type": "code",
      "execution_count": null,
      "metadata": {
        "id": "o42Zl_YAr3Np"
      },
      "outputs": [],
      "source": [
        "video_grid = video.grid(height=300, rows=1, cols=9)\n",
        "video_grid.show(mode='notebook')"
      ]
    },
    {
      "cell_type": "code",
      "execution_count": null,
      "metadata": {
        "id": "bdZX2uKtr3Np"
      },
      "outputs": [],
      "source": [
        "video_grid = video.grid(height=300, rows=3, cols=3)\n",
        "video_grid.show(mode='notebook')"
      ]
    },
    {
      "cell_type": "markdown",
      "metadata": {
        "id": "Bu233_olr3Np"
      },
      "source": [
        "### Average image\n",
        "You can also summarize the content of a video by showing the average of all frames in a single image."
      ]
    },
    {
      "cell_type": "code",
      "execution_count": null,
      "metadata": {
        "id": "I9bEZ3aCr3Nq"
      },
      "outputs": [],
      "source": [
        "video.blend(component_mode='average').show(mode='notebook')"
      ]
    },
    {
      "cell_type": "markdown",
      "metadata": {
        "id": "BDajNsU7r3Nq"
      },
      "source": [
        "This resembles an \"open shutter\" technique used in early photography, blending all images together. It has different modes:"
      ]
    },
    {
      "cell_type": "code",
      "execution_count": null,
      "metadata": {
        "id": "i8o__N8lRP65"
      },
      "outputs": [],
      "source": [
        "video.blend(component_mode='lighten').show(mode='notebook')"
      ]
    },
    {
      "cell_type": "code",
      "execution_count": null,
      "metadata": {
        "id": "cu5925VJRP65"
      },
      "outputs": [],
      "source": [
        "video.blend(component_mode='darken').show(mode='notebook')"
      ]
    },
    {
      "cell_type": "markdown",
      "metadata": {
        "id": "LhrsOYT3r3Nq"
      },
      "source": [
        "### History video"
      ]
    },
    {
      "cell_type": "markdown",
      "metadata": {
        "id": "cbdFkWW3r3Nq"
      },
      "source": [
        "A history video preserves somes information about previous frames through a delay process. The last *n* frames overlaid on top of the current one."
      ]
    },
    {
      "cell_type": "code",
      "execution_count": null,
      "metadata": {
        "id": "sH9Lw9NUr3Nq"
      },
      "outputs": [],
      "source": [
        "history = video.history(history_length=30) # returns an MgVideo with the history video\n",
        "history.show(mode='notebook')"
      ]
    },
    {
      "cell_type": "markdown",
      "metadata": {
        "id": "uFlpmlDCr3Nr"
      },
      "source": [
        "Such history videos can be useful to display the trajectories of motion over time."
      ]
    },
    {
      "cell_type": "markdown",
      "metadata": {
        "id": "FPggbehEr3Nr"
      },
      "source": [
        "It can also be the input to a grid image:"
      ]
    },
    {
      "cell_type": "code",
      "execution_count": null,
      "metadata": {
        "id": "to7UmeDPr3Nr"
      },
      "outputs": [],
      "source": [
        "video_grid = history.grid(height=300, rows=3, cols=3)\n",
        "video_grid.show(mode='notebook')"
      ]
    },
    {
      "cell_type": "markdown",
      "metadata": {
        "id": "W_NPPYh0r3Nr"
      },
      "source": [
        "### Videograms"
      ]
    },
    {
      "cell_type": "markdown",
      "metadata": {
        "id": "FIYPkPQEr3Nr"
      },
      "source": [
        "A videogram is a compact representation based on summing up either the rows or columns of the video.\n",
        "\n",
        "![Overview of videograms](https://github.com/fourMs/MGT-python/blob/master/wiki_pics/motiongram_640.jpg?raw=1)"
      ]
    },
    {
      "cell_type": "markdown",
      "metadata": {
        "id": "JZwWe46kRP66"
      },
      "source": [
        "The idea is to represent longer video segments in a spatiotemporal display. So we can start from the original dance video."
      ]
    },
    {
      "cell_type": "code",
      "execution_count": null,
      "metadata": {
        "id": "01Ay-h46RP66"
      },
      "outputs": [],
      "source": [
        "video = mg.MgVideo(dance)"
      ]
    },
    {
      "cell_type": "markdown",
      "metadata": {
        "id": "UV5Gi2N9r3Nr"
      },
      "source": [
        "Videograms can be created using the `videograms()` function:"
      ]
    },
    {
      "cell_type": "code",
      "execution_count": null,
      "metadata": {
        "id": "lFOI3MBfr3Ns"
      },
      "outputs": [],
      "source": [
        "videograms = video.videograms()"
      ]
    },
    {
      "cell_type": "code",
      "execution_count": null,
      "metadata": {
        "id": "1HlBGYDer3Ns"
      },
      "outputs": [],
      "source": [
        "videograms[1].show(mode=\"notebook\") # view vertical videogram"
      ]
    },
    {
      "cell_type": "code",
      "execution_count": null,
      "metadata": {
        "id": "Hyl0UUQmr3Ns"
      },
      "outputs": [],
      "source": [
        "videograms[0].show(mode=\"notebook\") # view horizontal videogram"
      ]
    },
    {
      "cell_type": "markdown",
      "metadata": {
        "id": "nEkPrkCWr3Nt"
      },
      "source": [
        "They are useful for getting an overview over longer video recordings, anything from minutes to hours of material. The dimensions of the output image are based on the pixels and frames of the source video. You may therefore want to use the `skip` function when reading the video to reduce the number of frames of long videos."
      ]
    },
    {
      "cell_type": "markdown",
      "metadata": {
        "id": "XacVxuh1r3Nt"
      },
      "source": [
        "## Motion analysis"
      ]
    },
    {
      "cell_type": "markdown",
      "metadata": {
        "id": "TDtmXHFGr3Nt"
      },
      "source": [
        "These processes are based on analyzing what changes in the video files."
      ]
    },
    {
      "cell_type": "markdown",
      "metadata": {
        "id": "yTewxRplr3Nt"
      },
      "source": [
        "- `motion()`: The most frequently used function generates a motion video, motiongrams, a data file, and plots of the data.\n",
        "\n",
        "The `motion()` function encapsulates these four functions:\n",
        "\n",
        "- `motionvideo()`: This function only generates a motion video\n",
        "- `motiondata()`: This function only generates motion data\n",
        "- `motionplots()`: This function only generats motion plots\n",
        "- `motiongrams()`: This function only outputs the motiongrams.\n",
        "\n",
        "After we switched to `FFmpeg` rendering, there is no particular performance benefit of running the processes separately."
      ]
    },
    {
      "cell_type": "markdown",
      "metadata": {
        "id": "P5kjr3vnr3Nu"
      },
      "source": [
        "### Frame differencing"
      ]
    },
    {
      "cell_type": "markdown",
      "metadata": {
        "id": "bNknE_qmr3Nu"
      },
      "source": [
        "The `motion()` function does many things at once. It is based on the concept of \"frame differencing\"."
      ]
    },
    {
      "cell_type": "markdown",
      "metadata": {
        "id": "Kr6U-QuGr3Nu"
      },
      "source": [
        "![Frame differencing explained](https://github.com/fourMs/MGT-python/blob/master/wiki_pics/motion-image_640.jpg?raw=1)\n",
        "\n",
        "Only pixels that change between frames are shown. Let us load the original video again."
      ]
    },
    {
      "cell_type": "code",
      "execution_count": null,
      "metadata": {
        "id": "_p-0WSmWRP66"
      },
      "outputs": [],
      "source": [
        "video = mg.MgVideo(dance)"
      ]
    },
    {
      "cell_type": "code",
      "execution_count": null,
      "metadata": {
        "id": "EJ0xZlJhr3Nv"
      },
      "outputs": [],
      "source": [
        "video.motionvideo().show(mode=\"notebook\")"
      ]
    },
    {
      "cell_type": "markdown",
      "metadata": {
        "id": "WrSxuyA4r3Nv"
      },
      "source": [
        "### Motiongrams"
      ]
    },
    {
      "cell_type": "markdown",
      "metadata": {
        "id": "tcU4V0M2r3Nv"
      },
      "source": [
        "Motiongrams are based on the same processing as videograms but starting from a motion video.\n",
        "\n",
        "![Overview of videograms](https://github.com/fourMs/MGT-python/blob/master/wiki_pics/motiongram_640.jpg?raw=1)"
      ]
    },
    {
      "cell_type": "markdown",
      "metadata": {
        "id": "PVz1CKhkr3Nv"
      },
      "source": [
        "Motiongrams are created with the `motiongrams()` function:"
      ]
    },
    {
      "cell_type": "code",
      "execution_count": null,
      "metadata": {
        "id": "yZPOovjbr3Nv"
      },
      "outputs": [],
      "source": [
        "motiongrams = video.motiongrams()"
      ]
    },
    {
      "cell_type": "code",
      "execution_count": null,
      "metadata": {
        "id": "fbOSWmQJr3Nw"
      },
      "outputs": [],
      "source": [
        "motiongrams[1].show(mode=\"notebook\") # view horizontal motiongram"
      ]
    },
    {
      "cell_type": "code",
      "execution_count": null,
      "metadata": {
        "id": "QzyT5s8ar3Nw"
      },
      "outputs": [],
      "source": [
        "motiongrams[0].show(mode=\"notebook\") # view vertical motiongram"
      ]
    },
    {
      "cell_type": "markdown",
      "metadata": {
        "id": "yTIvws_xr3Nw"
      },
      "source": [
        "### Motion features"
      ]
    },
    {
      "cell_type": "markdown",
      "metadata": {
        "id": "vigjOXwXr3Nw"
      },
      "source": [
        "We can extract some basic features from the motion video:\n",
        "\n",
        "- Quantity of Motion (QoM)\n",
        "- Area of Motion (AoM)\n",
        "- Centroid of Motion (CoM)"
      ]
    },
    {
      "cell_type": "markdown",
      "metadata": {
        "id": "j59VXVPTr3Nw"
      },
      "source": [
        "Quantity of Motion\n",
        "\n",
        "![Quantity of motion](https://github.com/fourMs/MGT-python/blob/master/wiki_pics/quantity-of-motion_640.jpg?raw=1)"
      ]
    },
    {
      "cell_type": "markdown",
      "metadata": {
        "id": "H_9X2aVPr3Nx"
      },
      "source": [
        "Area and centroid of motion\n",
        "\n",
        "![Motion features](https://github.com/fourMs/MGT-python/blob/master/wiki_pics/centroid-of-motion_640.jpg?raw=1)"
      ]
    },
    {
      "cell_type": "markdown",
      "metadata": {
        "id": "eF37lz3Wr3Nx"
      },
      "source": [
        "The features can be extracted with this command:"
      ]
    },
    {
      "cell_type": "code",
      "execution_count": null,
      "metadata": {
        "id": "XGODOcS7r3Nx"
      },
      "outputs": [],
      "source": [
        "video = mg.MgVideo(dance)\n",
        "video.motiondata()"
      ]
    },
    {
      "cell_type": "markdown",
      "metadata": {
        "id": "VGGdHl3Sr3Nx"
      },
      "source": [
        "And plotted like this:"
      ]
    },
    {
      "cell_type": "code",
      "execution_count": null,
      "metadata": {
        "id": "2UlHvCipr3Ny"
      },
      "outputs": [],
      "source": [
        "video.motionplots().show(mode=\"notebook\")"
      ]
    },
    {
      "cell_type": "markdown",
      "metadata": {
        "id": "-bT5ndhor3Ny"
      },
      "source": [
        "### All at once"
      ]
    },
    {
      "cell_type": "markdown",
      "metadata": {
        "id": "2SQuxfyAr3Ny"
      },
      "source": [
        "To save processing time, we have packaged many of these functions together in `motion()`:"
      ]
    },
    {
      "cell_type": "code",
      "execution_count": null,
      "metadata": {
        "id": "7MaaMwXJr3Ny"
      },
      "outputs": [],
      "source": [
        "video.motion()"
      ]
    },
    {
      "cell_type": "markdown",
      "metadata": {
        "id": "CdaSlTEar3Ny"
      },
      "source": [
        "That function outputs all of these a the same time:\n",
        "\n",
        "- *<input_filename>_motion.avi*: The motion video that is used as the source for the rest of the analysis.\n",
        "- *<input_filename>_mgx.png*: A horizontal motiongram.\n",
        "- *<input_filename>_mgy.png*: A vertical motiongram.\n",
        "- *<input_filename>_motion_com_qom.png*: An image file with plots of centroid and quantity of motion\n",
        "- *<input_filename>_motion.csv*: A text file with data from the analysis"
      ]
    },
    {
      "cell_type": "markdown",
      "metadata": {
        "id": "x6zBNe1vr3Nz"
      },
      "source": [
        "### Filtering"
      ]
    },
    {
      "cell_type": "markdown",
      "metadata": {
        "id": "67yuOmA6r3Nz"
      },
      "source": [
        "If there is too much noise in the output images or video, you may choose to use some other filter settings:\n",
        "\n",
        "- `Regular` turns all values below `thresh` to 0.\n",
        "- `Binary` turns all values below `thresh` to 0, above `thresh` to 1.\n",
        "- `Blob` removes individual pixels with erosion method."
      ]
    },
    {
      "cell_type": "markdown",
      "metadata": {
        "id": "2XKWDbs4r3Nz"
      },
      "source": [
        "Finding the right threshold value is crucial for accurate motion extraction. Let's see a few examples.\n",
        "\n",
        "First we import an example video."
      ]
    },
    {
      "cell_type": "code",
      "execution_count": null,
      "metadata": {
        "id": "mGWpVonZr3Nz"
      },
      "outputs": [],
      "source": [
        "video = mg.MgVideo(dance, starttime=4, endtime=18)"
      ]
    },
    {
      "cell_type": "markdown",
      "metadata": {
        "id": "fPlsGEm7r3Nz"
      },
      "source": [
        "First we can try to run without any threshold. This will result in a result in which much of the background noise will be visible, including traces of keyframes if the video file has been compressed."
      ]
    },
    {
      "cell_type": "code",
      "execution_count": null,
      "metadata": {
        "id": "I9iOzpd0r3N0"
      },
      "outputs": [],
      "source": [
        "video.motiongrams(thresh=0.0)[0].show(mode='notebook')"
      ]
    },
    {
      "cell_type": "markdown",
      "metadata": {
        "id": "g4tprC4zr3N0"
      },
      "source": [
        "The standard threshold value (0.1) generally works well for many types of videos."
      ]
    },
    {
      "cell_type": "code",
      "execution_count": null,
      "metadata": {
        "id": "o0pB9WwZr3N0"
      },
      "outputs": [],
      "source": [
        "video.motiongrams(thresh=0.1)[0].show(mode='notebook')"
      ]
    },
    {
      "cell_type": "markdown",
      "metadata": {
        "id": "pfkRa0Ifr3N1"
      },
      "source": [
        "A more extreme value (for example 0.5) will remove quite a lot of the content, but may be useful in some cases with very noisy videos."
      ]
    },
    {
      "cell_type": "code",
      "execution_count": null,
      "metadata": {
        "id": "IzkxvISkr3N1"
      },
      "outputs": [],
      "source": [
        "video.motiongrams(thresh=0.9)[0].show(mode='notebook')"
      ]
    },
    {
      "cell_type": "markdown",
      "metadata": {
        "id": "2LFwGEOgr3N1"
      },
      "source": [
        "As the above examples have shown, choosing the thresholding value is important for the final output result. While it often works to use the default value (0.1), you may improve the result by testing different thresholds."
      ]
    },
    {
      "cell_type": "markdown",
      "metadata": {
        "id": "RRukHs8mr3N1"
      },
      "source": [
        "### Motion history"
      ]
    },
    {
      "cell_type": "markdown",
      "metadata": {
        "id": "oIeCZBiwr3OG"
      },
      "source": [
        "To expressively visualize the trajectory of a moving content in a video, you can apply the history process on a motion video. You can do this by chaining `motion()` into `history()`."
      ]
    },
    {
      "cell_type": "code",
      "execution_count": null,
      "metadata": {
        "id": "lx9rFO7Mr3OH"
      },
      "outputs": [],
      "source": [
        "video.motion().history().show(mode=\"notebook\")"
      ]
    },
    {
      "cell_type": "markdown",
      "metadata": {
        "id": "hQGmHdLBr3OI"
      },
      "source": [
        "You can modify the length of the history:"
      ]
    },
    {
      "cell_type": "code",
      "execution_count": null,
      "metadata": {
        "id": "LgFxX8R0r3OI"
      },
      "outputs": [],
      "source": [
        "video.motion().history(history_length=20).show(mode=\"notebook\")"
      ]
    },
    {
      "cell_type": "markdown",
      "metadata": {
        "id": "7WHI3WDfr3OJ"
      },
      "source": [
        "And combine it with inverting the motion video:"
      ]
    },
    {
      "cell_type": "code",
      "execution_count": null,
      "metadata": {
        "id": "ktiPccv8r3OJ"
      },
      "outputs": [],
      "source": [
        "video.motion(inverted_motionvideo=True).history().show(mode=\"notebook\")"
      ]
    },
    {
      "cell_type": "markdown",
      "metadata": {
        "id": "aKtUuDhKr3OJ"
      },
      "source": [
        "### Motion average"
      ]
    },
    {
      "cell_type": "markdown",
      "metadata": {
        "id": "gCAuwoFjr3OK"
      },
      "source": [
        "It can also be interesting to chain a motion video with the `average` function:"
      ]
    },
    {
      "cell_type": "code",
      "execution_count": null,
      "metadata": {
        "id": "ed0P8LYBr3OK"
      },
      "outputs": [],
      "source": [
        "video.motion(inverted_motionvideo=True).blend(component_mode='darken').show(mode=\"notebook\")"
      ]
    },
    {
      "cell_type": "markdown",
      "metadata": {
        "id": "Rgg6Ntkvr3OK"
      },
      "source": [
        "## Advanced techniques"
      ]
    },
    {
      "cell_type": "markdown",
      "metadata": {
        "id": "ubb-dLpwRP68"
      },
      "source": [
        "## Blur faces\n",
        "\n",
        "The `blur()` function detects faces in the video and blurs them."
      ]
    },
    {
      "cell_type": "code",
      "execution_count": null,
      "metadata": {
        "id": "uWOIxzyVRP68"
      },
      "outputs": [],
      "source": [
        "video = mg.MgVideo(dance, starttime=4, endtime=18)"
      ]
    },
    {
      "cell_type": "code",
      "execution_count": null,
      "metadata": {
        "id": "tBuqUNi7RP68"
      },
      "outputs": [],
      "source": [
        "blur = video.blur_faces() # returns an MgVideo with anonymization of faces in videos"
      ]
    },
    {
      "cell_type": "code",
      "execution_count": null,
      "metadata": {
        "id": "CkynFifMRP68"
      },
      "outputs": [],
      "source": [
        "blur.show()"
      ]
    },
    {
      "cell_type": "markdown",
      "metadata": {
        "id": "WMOsBqGeRP68"
      },
      "source": [
        "It is also possible to save a file with the coordinates of the detected faces."
      ]
    },
    {
      "cell_type": "code",
      "execution_count": null,
      "metadata": {
        "id": "x-rAe6ufRP68"
      },
      "outputs": [],
      "source": [
        "blur = video.blur_faces(save_data=True, data_format='csv') # file formats available: csv, tsv and txt"
      ]
    },
    {
      "cell_type": "markdown",
      "metadata": {
        "id": "3nJoODqORP68"
      },
      "source": [
        "The detected faces can also be visualized using a `heatmap`."
      ]
    },
    {
      "cell_type": "code",
      "execution_count": null,
      "metadata": {
        "id": "LficZqsfRP68"
      },
      "outputs": [],
      "source": [
        "blur = video.blur_faces(draw_heatmap=True, neighbours=128, resolution=500, save_data=False) # returns an MgImage with heatmap of face detection\n",
        "# view result\n",
        "blur.show()"
      ]
    },
    {
      "cell_type": "markdown",
      "metadata": {
        "id": "A8CLNOPQr3OK"
      },
      "source": [
        "### Optical flow\n",
        "It is also possible to track the direction certain points - or all points - move in a video, this is called 'optical flow'. It has two types: the *sparse optical flow*, which is for tracking a small (sparse) set of points, visualized with an overlay of dots and lines drawing the trajectory of the chosen points as they move in the video.\n",
        "\n",
        "- `flow.sparse()`: Renders a *_sparse* optical flow video.\n",
        "- `flow.dense()`: Renders a *_dense* optical flow video.\n",
        "- `pose()`: Renders a *_pose* human pose estimation video, and optionally outputs the pose data as a csv file."
      ]
    },
    {
      "cell_type": "code",
      "execution_count": null,
      "metadata": {
        "id": "bI6nr2DZr3OL"
      },
      "outputs": [],
      "source": [
        "video.flow.sparse().show(mode=\"notebook\")"
      ]
    },
    {
      "cell_type": "markdown",
      "metadata": {
        "id": "DQbYNvAtr3OL"
      },
      "source": [
        "Note that sparse optical flow usually works well with slow and continuous movements, where the points to be tracked are not occluded by other objects throughout the course of motion.\n",
        "Where spare optical flow becomes less reliable, *dense optical flow* often yields more robust results. In dense optical flow the analysis attempts to track the movement of each pixel (or more precisely groups of pixels), colorcoding them with a unique color for each unique direction."
      ]
    },
    {
      "cell_type": "code",
      "execution_count": null,
      "metadata": {
        "id": "Tzd3uhyGr3OM"
      },
      "outputs": [],
      "source": [
        "video.flow.dense().show(mode=\"notebook\")"
      ]
    },
    {
      "cell_type": "markdown",
      "metadata": {
        "id": "ouDsLVC3r3OM"
      },
      "source": [
        "Sparse optical flow can get confused by too fast movement (ie. too big distance between the locations of a tracked point between two consequtive frames), so it is typically advised not to have a too high `skip` value in the preprocessing stage for it to work properly.\n",
        "Dense optical flow on the other hand has issues with very slow movement, which sometimes gets below the treshold of what is considered 'a movement' resulting in a blinking video, where the more-or-less idle moments are rendered completely black. If your source video contains such moments, you can try setting `skip_empty=True`, which will discard all the (completely) black frames, eliminating the binking."
      ]
    },
    {
      "cell_type": "code",
      "execution_count": null,
      "metadata": {
        "id": "-Si7u7ppr3OM"
      },
      "outputs": [],
      "source": [
        "video.flow.dense(skip_empty=True).show(mode=\"notebook\")"
      ]
    },
    {
      "cell_type": "markdown",
      "metadata": {
        "id": "wox-yei0r3OM"
      },
      "source": [
        "### Pose estimation\n",
        "\n",
        "This module uses a more advanced type of computer vision, that involves a deep neural network trained by a huge dataset of images of people (courtesy of [OpenPose](https://github.com/CMU-Perceptual-Computing-Lab/openpose)!)."
      ]
    },
    {
      "cell_type": "markdown",
      "metadata": {
        "id": "EhmjFjeBr3ON"
      },
      "source": [
        "It tries to estimate their skeleton by tracking a set of \"keypoints\", which are joints on the body - for example \"Head\", \"Left Shoulder\", \"Right Knee\", etc. After the module runs you can take a look at the *_pose.csv* dataset, that contains the normalized XY pixel coordinates of each keypoint, and you can visualize the result with drawing a skeleton overlay over your video. You can choose from three trained models: the MPI (which is trained on the Multi-Person Dataset), the COCO model (trained on the COCO Dataset) or the BODY25 model. The module also supports GPU-acceleration, so if you have compiled openCV with CuDNN support, you can make the - otherwise rather slow - inference process run over 10 times faster!"
      ]
    },
    {
      "cell_type": "markdown",
      "metadata": {
        "id": "Hu9n1ig6r3ON"
      },
      "source": [
        "#### The models\n",
        "Since both models are quite large (~200MB each) they do not \"ship\" with the musicalgestures package, but we do include some convenience bash/batch scripts do download them on the fly if you need them. If the `pose()` module cannot find the model you asked for it will offer you to download it."
      ]
    },
    {
      "cell_type": "markdown",
      "metadata": {
        "id": "zLizOt53r3ON"
      },
      "source": [
        "#### Downsampling\n",
        "Running inference on large neural networks to process every pixel of every frame of your video is quite a costly operation. There is a trick however to reduce the load and this is downsampling your input image. Often times a large part of the frame is redundant and the posture of the person in the video can easily be understood on a lower resolution image as well. Downsampling can greatly speed up `pose()`, but of course it can also make its estimation less accurate if overused. The default value we use in `pose()` is `downsampling_factor=2` which produces a video with one-fourth of its original resolution before feeding it to the network.\n",
        "\n",
        "#### Confidence threshold\n",
        "The networks are not always equally confident about their guesses. Sometimes (especially with heavy downsampling) they can identify other objects in your scene as either of the keypoints of the human body we wish to track. Filtering out inconfident guesses can remove a lot of noise from the prediction. `pose()` has a normalized `threshold` parameter that is set to `0.1`. This means the network has to be at least 10% sure about its guess for us to take that prediction into account.\n",
        "\n",
        "Below you can find a simple example of `pose()` in action. For more info check out the [documentation](https://github.com/fourMs/MGT-python/blob/master/musicalgestures/documentation/_pose.md)."
      ]
    },
    {
      "cell_type": "code",
      "execution_count": null,
      "metadata": {
        "id": "M-atbhbRr3ON"
      },
      "outputs": [],
      "source": [
        "video.pose(downsampling_factor=1, threshold=0.1, model='mpi', device='gpu').show(mode='notebook')"
      ]
    },
    {
      "cell_type": "markdown",
      "metadata": {
        "id": "slyoquqrr3OO"
      },
      "source": [
        "## MgAudio"
      ]
    },
    {
      "cell_type": "markdown",
      "metadata": {
        "id": "zbKC7QT1r3OO"
      },
      "source": [
        "MGT offers several tools to analyze the audio track of videos or audio files. These are implemented both as class methods for `MgVideo` and `MgAudio`."
      ]
    },
    {
      "cell_type": "markdown",
      "metadata": {
        "id": "Qw9gOcO-r3OO"
      },
      "source": [
        "- `waveform()`: Renders a figure showing the waveform of the video/audio file.\n",
        "- `spectrogram()`: Renders a figure showing the mel-scaled spectrogram of the video/audio file.\n",
        "- `descriptors()`: Renders a figure of plots showing spectral/loudness descriptors, including RMS energy, spectral flatness, centroid, bandwidth, rolloff of the video/audio file.\n",
        "- `tempogram()`: Renders a figure with a plots of onset strength and tempogram of the video/audio file."
      ]
    },
    {
      "cell_type": "markdown",
      "metadata": {
        "id": "QUzKYdFSr3OO"
      },
      "source": [
        "These functions use the `librosa` package for audio analysis and the `matplotlib` package for showing the analysis as figures."
      ]
    },
    {
      "cell_type": "markdown",
      "metadata": {
        "id": "I8m5m1s-r3OO"
      },
      "source": [
        "### Waveforms\n",
        "\n",
        "A [waveform](https://en.wikipedia.org/wiki/Waveform) is a plot of audio samples (y axis) against time (x axis). It is a basic visualization of the audio content. Here is how you can create a waveform of an audio track/file:"
      ]
    },
    {
      "cell_type": "code",
      "execution_count": null,
      "metadata": {
        "id": "h-EiS0O3r3OP"
      },
      "outputs": [],
      "source": [
        "audio = mg.MgAudio(pianist)\n",
        "audio.waveform()\n",
        "\n",
        "# Also possible to extract waveform using the MgVideo class\n",
        "# video = mg.MgVideo(pianist)\n",
        "# video.audio.waveform()"
      ]
    },
    {
      "cell_type": "markdown",
      "metadata": {
        "id": "OLvMKIjFr3OP"
      },
      "source": [
        "### Spectrograms\n",
        "\n",
        "A [spectrogram](https://en.wikipedia.org/wiki/Spectrogram) is a plot of frequency spectrum (y axis) against time (x axis). It can provide a much more descriptive representation of audio content than a waveform (which is in a way the sum of all frequencies with respect to their phases). Here is how you can create a spectrogram of an audio track/file:"
      ]
    },
    {
      "cell_type": "code",
      "execution_count": null,
      "metadata": {
        "id": "Hjzuc68Hr3OP"
      },
      "outputs": [],
      "source": [
        "audio = mg.MgAudio(pianist)\n",
        "audio.spectrogram()"
      ]
    },
    {
      "cell_type": "markdown",
      "metadata": {
        "id": "0weMu1DIr3OQ"
      },
      "source": [
        "This has created a figure showing the [mel-scaled](https://en.wikipedia.org/wiki/Mel_scale) spectrogram, and rendered *dancer_spectrogram.png* in the same folder where our input video, *dance.avi* resides."
      ]
    },
    {
      "cell_type": "markdown",
      "metadata": {
        "id": "jdHJMcNsr3OR"
      },
      "source": [
        "### Tempograms\n",
        "\n",
        "Tempograms attempt to use the same technique (called [Fast Fourier Transform](https://en.wikipedia.org/wiki/Fast_Fourier_transform)) as spectrograms to estimate musical tempo of the audio. In `tempogram()` we analyze the onsets and their strengths throughout the audio track, and then estimate the global tempo based on those. Here is how to use it:"
      ]
    },
    {
      "cell_type": "code",
      "execution_count": null,
      "metadata": {
        "id": "VoPj8XWxr3OR"
      },
      "outputs": [],
      "source": [
        "audio = mg.MgAudio(pianist)\n",
        "audio.tempogram()"
      ]
    },
    {
      "cell_type": "markdown",
      "metadata": {
        "id": "GK4VY9jEr3OR"
      },
      "source": [
        "Estimating musical tempo meaningfully is a tricky thing, as it is often a function of not just onsets (beats), but the underlying harmonic structure as well. `tempogram()` only relies on onsets to make its estimation, which can in some cases identify the most common beat frequency as the \"tempo\" (rather than the _actual_ musical tempo)."
      ]
    },
    {
      "cell_type": "markdown",
      "metadata": {
        "id": "7Ksl5a7-r3OS"
      },
      "source": [
        "### Descriptors\n",
        "\n",
        "Additionally to spectrograms and tempogams you can also get a collection of audio descriptors via `descriptors()`. This collection includes:\n",
        "- RMS energy,\n",
        "- spectral flatness,\n",
        "- spectral centroid,\n",
        "- spectral bandwidth,\n",
        "- and spectral rolloff.\n",
        "\n",
        "RMS energy is often used to get a perceived loudness of the audio signal. Spectral flatness indicates how _flat_ the graph of the spectrum is at a given point in time. Noisier signals are more flat than harmonic ones. The spectral centroid shows the centroid of the spectrum, spectral bandwidth marks the the frequency range where power drops by less than half (at most −3 dB). Spectral rolloff is the frequency below which a specified percentage of the total spectral energy, e.g. 85%, lies. `descriptors()` draws two rolloff lines: one at 99% of the energy, and another at 1%."
      ]
    },
    {
      "cell_type": "code",
      "execution_count": null,
      "metadata": {
        "id": "lW4afm6ar3OT"
      },
      "outputs": [],
      "source": [
        "audio = mg.MgAudio(pianist)\n",
        "audio.descriptors()"
      ]
    },
    {
      "cell_type": "markdown",
      "metadata": {
        "id": "NexWt0Gar3OT"
      },
      "source": [
        "### Self-similarity matrices"
      ]
    },
    {
      "cell_type": "markdown",
      "metadata": {
        "id": "39zAukQyr3OU"
      },
      "source": [
        "Self-Similarity Matrices allow for detecting periodicities in a signal."
      ]
    },
    {
      "cell_type": "code",
      "execution_count": null,
      "metadata": {
        "id": "BwXUFsUcr3OU"
      },
      "outputs": [],
      "source": [
        "audio = mg.MgAudio(pianist)\n",
        "chromassm = audio.ssm(features='chromagram', cmap='magma', norm=2) # returns an MgImage with the chromagram SSM\n",
        "chromassm.show(mode='notebook') # view chromagram SSM"
      ]
    },
    {
      "cell_type": "markdown",
      "metadata": {
        "id": "VnLAvnZHr3OU"
      },
      "source": [
        "## Figures and Plotting"
      ]
    },
    {
      "cell_type": "markdown",
      "metadata": {
        "id": "_TExqrrbr3OV"
      },
      "source": [
        "The Musical Gestures Toolbox includes several tools to extract data from audio-visual content, and many of these tools output figures (or images) to visualize this time-varying data. In this section we take a closer look on how we can customize and combine figures and images from the toolbox.\n",
        "\n",
        "### Titles\n",
        "\n",
        "By default the figures rendered by the toolbox automatically get the title of the source file we analyzed. We can also change this by providing a title as an argument to the function or method we are using. Here are some examples:"
      ]
    },
    {
      "cell_type": "code",
      "execution_count": null,
      "metadata": {
        "id": "AES7oS3jr3OV"
      },
      "outputs": [],
      "source": [
        "# source video as an MgObject\n",
        "video = mg.MgVideo(pianist)\n",
        "\n",
        "# motion plots\n",
        "motionplots = video.motionplots(title='Liszt - Mephisto Waltz No. 1 - motion')\n",
        "# spectrogram\n",
        "spectrogram = video.audio.spectrogram(title='Liszt - Mephisto Waltz No. 1 - spectrogram', autoshow=False)\n",
        "# tempogram\n",
        "tempogram = video.audio.tempogram(title='Liszt - Mephisto Waltz No. 1 - tempogram', autoshow=False)\n",
        "# descriptors\n",
        "descriptors = video.audio.descriptors(title='Liszt - Mephisto Waltz No. 1 - descriptors', autoshow=False)"
      ]
    },
    {
      "cell_type": "markdown",
      "metadata": {
        "id": "oNa04Ypmr3OW"
      },
      "source": [
        "## Combining figures and images\n",
        "\n",
        "In this section we take a look at how we can compose time-aligned figures easily within the Musical Gestures Toolbox."
      ]
    },
    {
      "cell_type": "markdown",
      "metadata": {
        "id": "j73RTs2Pr3OW"
      },
      "source": [
        "### Helper data structures: MgFigure and MgList\n",
        "\n",
        "First let us take a look at the data structures which help us through the composition."
      ]
    },
    {
      "cell_type": "markdown",
      "metadata": {
        "id": "Ek6eYyEAr3OX"
      },
      "source": [
        "### MgFigure\n",
        "\n",
        "As we have `MgVideo` for videos and `MgImage` for images, we also use a dedicated data structure for `matplotlib` figures: the `MgFigure`. Normally, you don't need a custom data-structure to just deal with a figure, but `MgFigure` offers an organized, comfortable way to represent the type of the figure and its data, so that we can reuse it in other figures. First of all, it implements the `show()` method which is used across the `musicalgestures` package to show the content of an object. In the case of `MgFigure` this will show the internal `matplotlib.pyplot.figure` object:"
      ]
    },
    {
      "cell_type": "code",
      "execution_count": null,
      "metadata": {
        "id": "srtiXrxDr3OX"
      },
      "outputs": [],
      "source": [
        "spectrogram.show()"
      ]
    },
    {
      "cell_type": "markdown",
      "metadata": {
        "id": "zAT7IDzVr3OX"
      },
      "source": [
        "Fun fact: as `show()` is implemented only for the sake of consistency here, you can achieve the same by referring to the internal figure of the `MgFigure` object directly:"
      ]
    },
    {
      "cell_type": "code",
      "execution_count": null,
      "metadata": {
        "id": "OkiOi6K3r3OX"
      },
      "outputs": [],
      "source": [
        "spectrogram.figure # same as spectrogram.show()"
      ]
    },
    {
      "cell_type": "markdown",
      "metadata": {
        "id": "--3pA6NMr3OX"
      },
      "source": [
        "What is more important is that each `MgFigure` has a `figure_type` attribute. This is what you see when you `print` (or in a notebook such as this, evaluate) them:"
      ]
    },
    {
      "cell_type": "code",
      "execution_count": null,
      "metadata": {
        "id": "0aE74dU9r3OY"
      },
      "outputs": [],
      "source": [
        "spectrogram"
      ]
    },
    {
      "cell_type": "markdown",
      "metadata": {
        "id": "bCt5Edzzr3OY"
      },
      "source": [
        "Each `MgFigure` object has a `data` attribute, where we store all the related data to be able to recreate the figure elsewhere. You never really have to interact with this attribute directly, unless you want to look under the hood:"
      ]
    },
    {
      "cell_type": "code",
      "execution_count": null,
      "metadata": {
        "id": "O3bw4LCyr3OY"
      },
      "outputs": [],
      "source": [
        "print(spectrogram.data.keys()) # see what kind of entries we have in our spectrogram figure\n",
        "print(spectrogram.data['length']) # see the length (in seconds) of the source file"
      ]
    },
    {
      "cell_type": "markdown",
      "metadata": {
        "id": "qVcvzynor3OY"
      },
      "source": [
        "You can also get the rendered image file corresponding to the `MgFigure` object. As an exercise, here is how you can make an `MgImage` of this image file and show it embedded in this notebook:"
      ]
    },
    {
      "cell_type": "code",
      "execution_count": null,
      "metadata": {
        "id": "LUX5lahO1Znw"
      },
      "outputs": [],
      "source": [
        "spectrogram.image"
      ]
    },
    {
      "cell_type": "code",
      "execution_count": null,
      "metadata": {
        "id": "MdJ7DMUpr3OZ"
      },
      "outputs": [],
      "source": [
        "mg.MgImage(spectrogram.image).show(mode=\"notebook\")"
      ]
    },
    {
      "cell_type": "markdown",
      "metadata": {
        "id": "f1pgqko6r3OZ"
      },
      "source": [
        "Another attribute of `MgFigure` is called `layers`. We will get back to this in a bit, for now let's just say that when an `MgFigure` object is in fact a composition of other `MgFigure`, `MgImage` or `MgList` objects, we have access to all those in the `layers` of the \"top-level\" `MgFigure`."
      ]
    },
    {
      "cell_type": "markdown",
      "metadata": {
        "id": "K-WhSml2r3OZ"
      },
      "source": [
        "### MgList\n",
        "\n",
        "Another versatile tool in our hands is `MgList`. It works more-or-less as an ordinary list, and it is specifically designed for working with objects of the `musicalgestures` package. Here is an example how to use it:"
      ]
    },
    {
      "cell_type": "code",
      "execution_count": null,
      "metadata": {
        "id": "EDALZaExr3OZ"
      },
      "outputs": [],
      "source": [
        "liszt_list = mg.MgList(spectrogram, tempogram)\n",
        "liszt_list"
      ]
    },
    {
      "cell_type": "markdown",
      "metadata": {
        "id": "ZJ4QHxa1r3Oa"
      },
      "source": [
        "`MgList` also implements many of the `list` feaures you already know:"
      ]
    },
    {
      "cell_type": "code",
      "execution_count": null,
      "metadata": {
        "id": "-0gLJvHMr3Oa"
      },
      "outputs": [],
      "source": [
        "# how many objects are there?\n",
        "print(f'There are {len(liszt_list)} objects in this MgList!')\n",
        "\n",
        "# which one is the 2nd?\n",
        "print(f'The second object is a(n) {liszt_list[1]}.')\n",
        "\n",
        "# change the 2nd element to the descriptors figure instead:\n",
        "liszt_list[1] = descriptors\n",
        "print(f'The second object is now {liszt_list[1]}.') # check results\n",
        "\n",
        "# add the tempogram figure to the list:\n",
        "liszt_list += tempogram\n",
        "print(f'Now there are {len(liszt_list)} objects in this MgList. These are:') # check results\n",
        "for element in liszt_list:\n",
        "    print(element)\n",
        "\n",
        "# fun fact: videograms() returns an MgList with the horizontal and vertical videograms (as MgImages)\n",
        "videograms = mg.MgVideo(pianist).videograms()\n",
        "\n",
        "# MgList.show() will call show() on all its objects in a succession\n",
        "videograms.show(mode=\"notebook\")\n",
        "\n",
        "# add two MgLists\n",
        "everything = videograms + liszt_list\n",
        "print('everything:', everything)"
      ]
    },
    {
      "cell_type": "markdown",
      "metadata": {
        "id": "uBjtdxSsr3Oa"
      },
      "source": [
        "### Composing figures with MgList\n",
        "\n",
        "One of the most useful methods of `MgList` is `as_figure()`. It allows you to conveniently compose a stack of plots, time-aligned, and with a vertical order you specify. Here is an example:"
      ]
    },
    {
      "cell_type": "code",
      "execution_count": null,
      "metadata": {
        "id": "6UWrMEter3Oa"
      },
      "outputs": [],
      "source": [
        "fig_everything = everything.as_figure(title='Liszt - Mephisto Waltz No. 1')"
      ]
    },
    {
      "cell_type": "markdown",
      "metadata": {
        "id": "DQmICt2er3Ob"
      },
      "source": [
        "## Chaining"
      ]
    },
    {
      "cell_type": "markdown",
      "metadata": {
        "id": "xAvPSc3-r3Ob"
      },
      "source": [
        "So far our workflow consisted of the following steps:\n",
        "\n",
        "1. Creating an MgVideo which loads a video file and optionally applies some preprocessing to it.\n",
        "2. Calling a process on the MgVideo.\n",
        "3. Viewing the result."
      ]
    },
    {
      "cell_type": "markdown",
      "metadata": {
        "id": "6baGScc8r3Ob"
      },
      "source": [
        "Something like this:"
      ]
    },
    {
      "cell_type": "code",
      "execution_count": null,
      "metadata": {
        "id": "GJRaXWmhr3Ob"
      },
      "outputs": [],
      "source": [
        "video = mg.MgVideo(dance, starttime=5, endtime=15, skip=3)\n",
        "video.motion()\n",
        "video.show(mode=\"notebook\", key='motion')"
      ]
    },
    {
      "cell_type": "markdown",
      "metadata": {
        "id": "iCSwzGucr3Ob"
      },
      "source": [
        "This is convenient if you want to apply several different processes on the same input video."
      ]
    },
    {
      "cell_type": "markdown",
      "metadata": {
        "id": "Xy1XYU2Jr3Oc"
      },
      "source": [
        "The Musical Gestures Toolbox also offers an alternative workflow in case you want to apply a proccess on the result of a previous process. Although `show()` is not really a process (ie. it does not yield a file as a result) it can provide a good example of the use of chaining:"
      ]
    },
    {
      "cell_type": "code",
      "execution_count": null,
      "metadata": {
        "id": "w1RNZOpsr3Oc"
      },
      "outputs": [],
      "source": [
        "# this...\n",
        "video.motion().show(mode=\"notebook\")"
      ]
    },
    {
      "cell_type": "code",
      "execution_count": null,
      "metadata": {
        "id": "oj6A3oxFr3Oc"
      },
      "outputs": [],
      "source": [
        "# ...is the equivalent of this!\n",
        "video.motion()\n",
        "video.show(mode=\"notebook\", key='motion')"
      ]
    },
    {
      "cell_type": "markdown",
      "metadata": {
        "id": "-vG-T4Vqr3Oc"
      },
      "source": [
        "It also works with images:"
      ]
    },
    {
      "cell_type": "code",
      "execution_count": null,
      "metadata": {
        "id": "lHmblnOer3Oc"
      },
      "outputs": [],
      "source": [
        "video.blend(component_mode='average').show(mode=\"notebook\")"
      ]
    },
    {
      "cell_type": "markdown",
      "metadata": {
        "id": "dR6GlRikr3Oc"
      },
      "source": [
        "But chaining can go further than this. How about reading (and preprocessing) a video, rendering its motion video, the motion history and the average of the motion history, with showing the *_motion_history_average.png* at the end - all as a one-liner?!"
      ]
    },
    {
      "cell_type": "code",
      "execution_count": null,
      "metadata": {
        "id": "B8Q9Jjx0r3Od"
      },
      "outputs": [],
      "source": [
        "mg.MgVideo(dance, skip=4, crop='auto').motion().history().blend(component_mode='average').show(mode='notebook')"
      ]
    },
    {
      "cell_type": "code",
      "execution_count": null,
      "metadata": {
        "id": "WL3qjBzsr3Od"
      },
      "outputs": [],
      "source": [
        "# equivalent without chaining\n",
        "video = mg.MgVideo(dance, skip=4, crop='auto')\n",
        "mm = video.motion()\n",
        "mh = mm.history()\n",
        "mh.blend(component_mode='average')\n",
        "mh.show(mode=\"notebook\", key='average')"
      ]
    },
    {
      "cell_type": "markdown",
      "metadata": {
        "id": "p74kLG6zr3Od"
      },
      "source": [
        "Some other examples:"
      ]
    },
    {
      "cell_type": "code",
      "execution_count": null,
      "metadata": {
        "id": "J4-HbZEKr3Od"
      },
      "outputs": [],
      "source": [
        "# rendering and viewing the motion video\n",
        "mg.MgVideo(dance, skip=4).motion().show(mode='notebook')"
      ]
    },
    {
      "cell_type": "code",
      "execution_count": null,
      "metadata": {
        "id": "S8zQ8H-mr3Od"
      },
      "outputs": [],
      "source": [
        "# rendering the motion video, the motion history video, and viewing the latter\n",
        "mg.MgVideo(dance, skip=3).motion().history(normalize=True).show(mode='notebook')"
      ]
    },
    {
      "cell_type": "code",
      "execution_count": null,
      "metadata": {
        "id": "1OKRoqgYr3Od"
      },
      "outputs": [],
      "source": [
        "# rendering the motion video, the motion average image, and viewing the latter\n",
        "mg.MgVideo(dance, skip=15).motion().blend(component_mode='average').show(mode='notebook')"
      ]
    },
    {
      "cell_type": "markdown",
      "metadata": {
        "id": "WGv9gEoSr3Oe"
      },
      "source": [
        "## Summing up"
      ]
    },
    {
      "cell_type": "markdown",
      "metadata": {
        "id": "tlCm9TQYr3Oe"
      },
      "source": [
        "Questions or comments?\n",
        "\n",
        "- [Wiki](https://github.com/fourMs/MGT-python/wiki)\n",
        "- [Issues](https://github.com/fourMs/MGT-python/issues)"
      ]
    }
  ],
  "metadata": {
    "celltoolbar": "Slideshow",
    "colab": {
      "provenance": [],
      "toc_visible": true
    },
    "kernelspec": {
      "display_name": "Python 3 (ipykernel)",
      "language": "python",
      "name": "python3"
    },
    "language_info": {
      "codemirror_mode": {
        "name": "ipython",
        "version": 3
      },
      "file_extension": ".py",
      "mimetype": "text/x-python",
      "name": "python",
      "nbconvert_exporter": "python",
      "pygments_lexer": "ipython3",
      "version": "3.10.10"
    }
  },
  "nbformat": 4,
  "nbformat_minor": 0
}
