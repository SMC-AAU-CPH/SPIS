{
 "cells": [
  {
   "cell_type": "markdown",
   "metadata": {},
   "source": [
    "# Lecture 3a: EEG Signal Analysis for Interactive Systems\n",
    "Signal Processing for Interactive Systems\n",
    "\n",
    "Cumhur Erkut (cer@create.aau.dk)\n",
    "\n",
    "Aalborg University Copenhagen\n",
    "\n",
    "Last edited: 2025-03-02"
   ]
  },
  {
   "cell_type": "markdown",
   "metadata": {},
   "source": [
    "# EEG Time-Frequency Analysis for Interactive Applications\n",
    "This notebook demonstrates key spectral and time-frequency methods for EEG analysis.\n",
    "It covers:\n",
    "- **Time-domain representation**\n",
    "    - **Autocorrelation** (Identifying periodicity in EEG signals)\n",
    "    - **Autoregressive (AR) Model** (Parametric spectral estimation)\n",
    "- **Frequency-domain techniques**\n",
    "    - **Periodogram** (Power Spectral Density estimation)\n",
    "    - **Welch's method** (Improved PSD estimation using averaging)\n",
    "    - **Multitaper Method** (Variance reduction in spectral estimation)\n",
    "- **Time-frequency methods**\n",
    "    - **Short-Time Fourier Transform (STFT)** (Time-frequency analysis)\n",
    "- **Other methods, recent developments** \n"
   ]
  },
  {
   "cell_type": "code",
   "execution_count": null,
   "metadata": {},
   "outputs": [],
   "source": [
    "import numpy as np\n",
    "import matplotlib.pyplot as plt\n",
    "from scipy.signal import periodogram, welch, correlate, stft, spectrogram, windows\n",
    "from spectrum import pmtm, aryule, marple_data"
   ]
  },
  {
   "cell_type": "markdown",
   "metadata": {},
   "source": [
    "## 1. Introduction\n",
    "EEG signals are oscillatory signals that are commonly analyzed in both the time and frequency domains. \n",
    "The fundamental goal of spectral estimation is to determine how power is distributed across different frequencies.\n",
    " \n",
    "Here, the EEG signal is modeled as: \n",
    "$$ x(t) = A_1 \\sin(2\\pi f_1 t) + A_2 \\sin(2\\pi f_2 t) + n(t) $$\n",
    "where *f*~1~, and *f*~2~ are the frequencies present in the signal, and *n(t)* is noise.\n"
   ]
  },
  {
   "cell_type": "code",
   "execution_count": null,
   "metadata": {},
   "outputs": [],
   "source": [
    "# Simulated EEG Signal Parameters\n",
    "fs = 256  # Sampling frequency (Hz)\n",
    "t = np.arange(0, 10, 1/fs)  # 10 seconds of data\n",
    "signal = np.sin(2 * np.pi * 10 * t) + np.sin(2 * np.pi * 20 * t) + np.random.normal(0, 0.5, len(t))\n"
   ]
  },
  {
   "cell_type": "markdown",
   "metadata": {},
   "source": [
    "## 2. Time-Domain Representation\n"
   ]
  },
  {
   "cell_type": "code",
   "execution_count": null,
   "metadata": {},
   "outputs": [],
   "source": [
    "plt.figure(figsize=(10, 4))\n",
    "plt.plot(t[:1000], signal[:1000])  # Show first few seconds\n",
    "plt.title(\"Simulated EEG Signal in Time Domain\")\n",
    "plt.xlabel(\"Time (s)\")\n",
    "plt.ylabel(\"Amplitude\")\n",
    "plt.show()"
   ]
  },
  {
   "cell_type": "markdown",
   "metadata": {},
   "source": [
    "### Autocorrelation Analysis\n",
    "Autocorrelation identifies periodicities in the signal by computing:\n",
    "$$ R_x(\\tau) = \\sum_{n} x[n] x[n - \\tau] $$\n"
   ]
  },
  {
   "cell_type": "code",
   "execution_count": null,
   "metadata": {},
   "outputs": [],
   "source": [
    "corr = correlate(signal, signal, mode='full')\n",
    "lag = np.arange(-len(signal) + 1, len(signal)) / fs\n",
    "plt.figure()\n",
    "plt.plot(lag, corr)\n",
    "plt.title(\"Autocorrelation of EEG Signal\")\n",
    "plt.xlabel(\"Lag (s)\")\n",
    "plt.ylabel(\"Correlation\")\n",
    "plt.show()\n"
   ]
  },
  {
   "cell_type": "markdown",
   "metadata": {},
   "source": [
    "### Autoregressive (AR) Model\n",
    "The AR model estimates the power spectrum by fitting the data to a parametric model:\n",
    "\n",
    "$$ x[n] = \\sum_{p=1}^{P} a_p x[n - p] + e[n] $$\n"
   ]
  },
  {
   "cell_type": "code",
   "execution_count": null,
   "metadata": {},
   "outputs": [],
   "source": [
    "ar_order = 10\n",
    "ar_coeffs, noise_var = aryule(signal, ar_order)\n",
    "w, h = np.linspace(0, fs/2, len(signal)), np.abs(1 / np.polyval(np.concatenate(([1], -ar_coeffs)), np.exp(-2j * np.pi * np.linspace(0, 0.5, len(signal)))))\n",
    "plt.figure()\n",
    "plt.semilogy(w * fs, h**2 * noise_var)\n",
    "plt.title(\"Autoregressive Model Power Spectral Density\")\n",
    "plt.xlabel(\"Frequency (Hz)\")\n",
    "plt.ylabel(\"Power\")\n",
    "plt.show()"
   ]
  },
  {
   "cell_type": "markdown",
   "metadata": {},
   "source": [
    "## 3. Spectral Estimation\n",
    "### 3.1 Periodogram Method\n",
    "The periodogram estimates the power spectral density (PSD) using the squared magnitude of the Fourier Transform:\n",
    "$$ P(f) = \\frac{1}{N} \\left| X(f) \\right|^2 $$\n",
    "where *X(f)* is the Discrete Fourier Transform (DFT) of the signal.\n"
   ]
  },
  {
   "cell_type": "code",
   "execution_count": null,
   "metadata": {},
   "outputs": [],
   "source": [
    "freqs, psd = periodogram(signal, fs=fs)\n",
    "plt.figure()\n",
    "plt.semilogy(freqs, psd)\n",
    "plt.title(\"Periodogram Power Spectral Density\")\n",
    "plt.xlabel(\"Frequency (Hz)\")\n",
    "plt.xlim(0.5, 100)\n",
    "plt.ylim(0.000001, 10)\n",
    "plt.xticks(np.arange(10, 100, 10))\n",
    "plt.ylabel(\"Power\")\n",
    "plt.show()"
   ]
  },
  {
   "cell_type": "markdown",
   "metadata": {},
   "source": [
    "### 3.2 Welch's Method**\n",
    "Welch’s method improves PSD estimation by dividing the signal into overlapping segments and averaging the periodograms:\n",
    "$$ P_{Welch}(f) = \\frac{1}{K} \\sum_{k=1}^{K} P_k(f) $$"
   ]
  },
  {
   "cell_type": "code",
   "execution_count": null,
   "metadata": {},
   "outputs": [],
   "source": [
    "freqs_welch, psd_welch = welch(signal, fs=fs, nperseg=1024)\n",
    "plt.figure()\n",
    "plt.semilogy(freqs_welch, psd_welch)\n",
    "plt.title(\"Welch's Method Power Spectral Density\")\n",
    "plt.xlabel(\"Frequency (Hz)\")\n",
    "plt.ylabel(\"Power\")\n",
    "plt.show()"
   ]
  },
  {
   "cell_type": "markdown",
   "metadata": {},
   "source": [
    "### 3.3 Multitaper Method**\n",
    "The multitaper method reduces spectral variance by applying multiple tapers to the signal:\n",
    "$$ P_{MT}(f) = \\frac{1}{K} \\sum_{k=1}^{K} \\left| X_k(f) \\right|^2 $$\n"
   ]
  },
  {
   "cell_type": "code",
   "execution_count": null,
   "metadata": {},
   "outputs": [],
   "source": [
    "Sk, weights, _ = pmtm(signal, NW=3.5, show=False)\n",
    "freqs_mt = np.linspace(0, fs/2, len(Sk))\n",
    "plt.figure()\n",
    "plt.semilogy(freqs_mt, np.mean(Sk, axis=1))\n",
    "plt.title(\"Multitaper Method Power Spectral Density\")\n",
    "plt.xlabel(\"Frequency (Hz)\")\n",
    "plt.ylabel(\"Power\")\n",
    "plt.show()"
   ]
  },
  {
   "cell_type": "markdown",
   "metadata": {},
   "source": [
    "## 4. Time-Frequency Analysis\n",
    "###  4.1 Short-Time Fourier Transform (STFT)\n",
    "STFT applies the Fourier transform over short time windows:\n",
    "$$ STFT \\{ x(t) \\} (\\tau, f) = \\int x(t) w(t - \\tau) e^{-j2\\pi ft} dt $$\n",
    "\n"
   ]
  },
  {
   "cell_type": "code",
   "execution_count": null,
   "metadata": {},
   "outputs": [],
   "source": [
    "f, t, Zxx = stft(signal, fs, nperseg=256)\n",
    "plt.figure()\n",
    "plt.pcolormesh(t, f, np.abs(Zxx), shading='gouraud')\n",
    "plt.title(\"Short-Time Fourier Transform (STFT)\")\n",
    "plt.xlabel(\"Time (s)\")\n",
    "plt.ylabel(\"Frequency (Hz)\")\n",
    "plt.colorbar(label=\"Magnitude\")\n",
    "plt.show()"
   ]
  },
  {
   "cell_type": "markdown",
   "metadata": {},
   "source": [
    "# Summary\n",
    "In time-domian,\n",
    "- **Autocorrelation** helps reveal periodic components.\n",
    "- **Autoregressive Model** provides a smooth parametric spectral estimation (gateway to frequency domain).\n",
    "In frequency-domain\n",
    "- **Periodogram** provides a simple power spectrum estimate but is noisy.\n",
    "- **Welch's method** improves stability by averaging over overlapping segments.\n",
    "- **Multitaper method** reduces variance for a more stable spectrum.\n",
    "In time-frequency,\n",
    "- **STFT** enables time-frequency visualization of EEG signals.\n",
    "- Is a gateway to other time-frequency tilings.\n",
    "\n",
    "## Activities\n",
    "\n",
    "- Study other methods from the paper: Zhang-2019-EEGTF\n",
    "- Run all techniques on the real data \n",
    "- Run all techniques within MNE, on [simulated](https://mne.tools/stable/auto_examples/time_frequency/time_frequency_simulated.html) or [real data](https://mne.tools/stable/auto_tutorials/intro/10_overview.html#time-frequency-analysis) \n",
    "- Check how to apply [EEG data to Machine Learning on Edge Impulse](https://docs.edgeimpulse.com/experts/novel-sensor-projects/eeg-data-machine-learning-part-1)"
   ]
  },
  {
   "cell_type": "code",
   "execution_count": null,
   "metadata": {},
   "outputs": [],
   "source": [
    "# Starter code for real data (MATLAB format)\n",
    "try:\n",
    "  import google.colab\n",
    "  IN_COLAB = True\n",
    "  !mkdir -p data\n",
    "  !wget https://raw.githubusercontent.com/SMC-AAU-CPH/SPIS/main/03-Fourier-Transfom/data/NewEEGSignal.mat -P data\n",
    "except:\n",
    "  IN_COLAB = False\n",
    "\n",
    "from scipy.io import loadmat\n",
    "\n",
    "# Load the signal from the .mat file\n",
    "signal = loadmat('data/NewEEGSignal.mat')['NewEEGSignal'][0]\n",
    "fs = 256 #Hz\n",
    "t = np.arange(0, 512) / fs\n",
    "plt.figure(figsize=(10, 4))\n",
    "plt.plot(t[:1000], signal[:1000])  # Show first few seconds\n",
    "plt.title(\"Real EEG Signal in Time Domain\")\n",
    "plt.xlabel(\"Time (s)\")\n",
    "plt.ylabel(\"Amplitude\")\n",
    "plt.show()\n",
    "\n",
    "# etc"
   ]
  }
 ],
 "metadata": {
  "language_info": {
   "name": "python"
  }
 },
 "nbformat": 4,
 "nbformat_minor": 2
}
